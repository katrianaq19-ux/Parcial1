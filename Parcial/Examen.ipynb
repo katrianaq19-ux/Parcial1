{
 "cells": [
  {
   "cell_type": "code",
   "execution_count": 159,
   "id": "fa008f63",
   "metadata": {},
   "outputs": [],
   "source": [
    "class Ordenar:\n",
    "    def __init__(self):\n",
    "        self.items = []\n",
    "\n",
    "    def esta_vacia(self):\n",
    "        return len(self.items) == 0\n",
    "    \n",
    "    def push(self, item): #agrega un elemento item al final de la lista\n",
    "        self.items.append(item)\n",
    "\n",
    "    def pop(self):\n",
    "        if not self.esta_vacia():\n",
    "            return self.items.pop()#elimina y devuelve el ultimo elemento añadido a la pila  lifo\n",
    "        else:\n",
    "            return None # 0 lanzujar una execcion \n",
    "        \n",
    "    def peek(self):\n",
    "        if not self.esta_vacia():\n",
    "            return self.items[-1]\n",
    "        else:\n",
    "            return None # 0 lanzar una excepcion nos muestra el ultimo elemento \n",
    "\n",
    "    def tamano(self):\n",
    "        return len(self.items) \n",
    "    \n",
    "    def mostrar(self):\n",
    "        return self.items"
   ]
  },
  {
   "cell_type": "code",
   "execution_count": 160,
   "id": "450346cf",
   "metadata": {},
   "outputs": [
    {
     "name": "stdout",
     "output_type": "stream",
     "text": [
      "['C', 'H', 'O', 'C', 'O', 'L', 'A', 'T', 'E']\n"
     ]
    }
   ],
   "source": [
    "Ordenar=Ordenar()\n",
    "Ordenar.push(\"C\")\n",
    "Ordenar.push(\"H\")\n",
    "Ordenar.push(\"O\")\n",
    "Ordenar.push(\"C\")\n",
    "Ordenar.push(\"O\")\n",
    "Ordenar.push(\"L\")\n",
    "Ordenar.push(\"A\")\n",
    "Ordenar.push(\"T\")\n",
    "Ordenar.push(\"E\")\n",
    "print(Ordenar.mostrar())"
   ]
  },
  {
   "cell_type": "code",
   "execution_count": 161,
   "id": "7764c061",
   "metadata": {},
   "outputs": [],
   "source": [
    "class orden :\n",
    "    def __init__(self):\n",
    "        self.items = []\n",
    "\n",
    "    def esta_vacia(self):\n",
    "        return len(self.items) == 0\n",
    "    \n",
    "    def encolar(self, item):\n",
    "        self.items.insert(0, item) # insertar al inicio para fifo\n",
    "\n",
    "    def desencolar(self):\n",
    "        if not self.esta_vacia():\n",
    "            return self.items.pop()# eliminar del final para fifo\n",
    "        else:\n",
    "            return None # 0 lanzar una excepcion\n",
    "        \n",
    "    def primero(self):\n",
    "        if not self.esta_vacia():\n",
    "            return self.items[-1]\n",
    "        else:\n",
    "            return None # 0 lanzar una excepcion\n",
    "        \n",
    "    def tamano(self):\n",
    "        return len(self.items)\n",
    "    \n",
    "    def mostrar(self):\n",
    "        return self.items \n",
    "    \n",
    "    def rotar(self):\n",
    "        if not self.esta_vacia():\n",
    "            item = self.desencolar()\n",
    "            self.encolar(item)"
   ]
  },
  {
   "cell_type": "code",
   "execution_count": 162,
   "id": "9b53f3be",
   "metadata": {},
   "outputs": [],
   "source": [
    "import random\n",
    "\n",
    "Lista1 =[\"A\",\"B\",\"C\",\"D\",\"E\",\"F\",\"G\",\"H\",\"I\",\"J\",\"K\",\"L\",\"M\",\"N\",\"Ñ\",\"O\",\"P\",\"T\", \"R\",\"Q\",\"U\"]"
   ]
  },
  {
   "cell_type": "code",
   "execution_count": 164,
   "id": "796aa390",
   "metadata": {},
   "outputs": [],
   "source": [
    "list_rand =[\"l\",\"u\",\"i\",\"s\",\"a\"]\n",
    "\n",
    "def encolar(self, item):\n",
    "        self.items.insert(0, item)\n",
    "\n",
    "\n",
    "def desencolar(self):\n",
    "        if not self.esta_vacia():\n",
    "            return self.items.pop()\n",
    "        else:\n",
    "            return None \n"
   ]
  },
  {
   "cell_type": "code",
   "execution_count": 185,
   "id": "3464cda8",
   "metadata": {},
   "outputs": [
    {
     "name": "stdout",
     "output_type": "stream",
     "text": [
      "['a', 's', 'i', 'u', 'l']\n"
     ]
    }
   ],
   "source": [
    "list_rand =[\"l\",\"u\",\"i\",\"s\",\"a\"]\n",
    "col_1 = orden()\n",
    "col_ord = orden()\n",
    "for i in range(len(list_rand)):\n",
    "    col_1.encolar(list_rand[i])\n",
    "print(col_1.mostrar())"
   ]
  },
  {
   "cell_type": "code",
   "execution_count": 202,
   "id": "5c266a20",
   "metadata": {},
   "outputs": [],
   "source": [
    "comp=\"\""
   ]
  },
  {
   "cell_type": "code",
   "execution_count": 209,
   "id": "454ce2f1",
   "metadata": {},
   "outputs": [
    {
     "name": "stdout",
     "output_type": "stream",
     "text": [
      "['i', 'u', 'l', 'a', 's']\n",
      "['s', 'i', 'u', 'l', 'a']\n",
      "a\n",
      "comp: \n",
      "['a', 's', 'i', 'u', 'l']\n",
      "l\n",
      "comp: \n",
      "['l', 'a', 's', 'i', 'u']\n",
      "u\n",
      "comp: \n",
      "['u', 'l', 'a', 's', 'i']\n",
      "i\n",
      "comp: \n",
      "['i', 'u', 'l', 'a', 's']\n",
      "s\n",
      "comp: \n",
      "['s', 'i', 'u', 'l', 'a']\n",
      "a\n",
      "['l', 'a', 's', 'i', 'u']\n",
      "u\n",
      "['i', 'u', 'l', 'a', 's']\n",
      "s\n",
      "['a', 's', 'i', 'u', 'l']\n",
      "l\n",
      "['u', 'l', 'a', 's', 'i']\n",
      "i\n",
      "None\n",
      "[]\n",
      "['i', 'u', 'l', 'a', 's']\n"
     ]
    }
   ],
   "source": [
    "def new_func():\n",
    "    print(col_1.mostrar())\n",
    "    for _ in range(col_1.tamano()):\n",
    "      comp=\"\"\n",
    "    for _ in range(col_1.tamano()):\n",
    "      col_1.rotar()\n",
    "      print(col_1.mostrar())\n",
    "      print(col_1.primero())\n",
    "      if comp >col_1.primero():\n",
    "        comp=col_1.primero()\n",
    "      print(\"comp:\",comp)\n",
    "\n",
    "    for _ in range(col_1.tamano()):\n",
    "      col_1.rotar()\n",
    "      print(col_1.mostrar())\n",
    "      print(col_1.primero())\n",
    "      if comp== col_1.primero():\n",
    "        col_1.rotar()\n",
    "        print(col_1.mostrar())\n",
    "        print(col_1.primero())\n",
    "      if comp==col_1.primero():\n",
    "            col_ord.encolar(col_1.desencolar())\n",
    "      else:\n",
    "              col_1.rotar()  \n",
    "    print(col_ord.desencolar())\n",
    "    print(col_ord.mostrar())\n",
    "    print(col_1.mostrar())\n",
    "\n",
    "new_func()"
   ]
  },
  {
   "cell_type": "code",
   "execution_count": 210,
   "id": "d6e1cb4b",
   "metadata": {},
   "outputs": [],
   "source": [
    "import tkinter as tk\n",
    "from tkinter import ttk"
   ]
  }
 ],
 "metadata": {
  "kernelspec": {
   "display_name": "Python 3",
   "language": "python",
   "name": "python3"
  },
  "language_info": {
   "codemirror_mode": {
    "name": "ipython",
    "version": 3
   },
   "file_extension": ".py",
   "mimetype": "text/x-python",
   "name": "python",
   "nbconvert_exporter": "python",
   "pygments_lexer": "ipython3",
   "version": "3.13.9"
  }
 },
 "nbformat": 4,
 "nbformat_minor": 5
}
