{
 "cells": [
  {
   "cell_type": "code",
   "execution_count": 1,
   "id": "aaf18ce0",
   "metadata": {},
   "outputs": [],
   "source": [
    "class Pila:\n",
    "    def __init__(self):\n",
    "        self.items = []\n",
    "\n",
    "    def esta_vacia(self):\n",
    "        return len(self.items) == 0\n",
    "    \n",
    "    def push(self, item): #agrega un elemento item al final de la lista\n",
    "        self.items.append(item)\n",
    "\n",
    "    def pop(self):\n",
    "        if not self.esta_vacia():\n",
    "            return self.items.pop()#elimina y devuelve el ultimo elemento añadido a la pila  lifo\n",
    "        else:\n",
    "            return None # 0 lanzujar una execcion \n",
    "        \n",
    "    def peek(self):\n",
    "        if not self.esta_vacia():\n",
    "            return self.items[-1]\n",
    "        else:\n",
    "            return None # 0 lanzar una excepcion nos muestra el ultimo elemento \n",
    "\n",
    "    def tamano(self):\n",
    "        return len(self.items) \n",
    "    \n",
    "    def mostrar(self):\n",
    "        return self.items"
   ]
  },
  {
   "cell_type": "code",
   "execution_count": 2,
   "id": "4606b414",
   "metadata": {},
   "outputs": [
    {
     "name": "stdout",
     "output_type": "stream",
     "text": [
      "3\n",
      "pila \n",
      "3\n",
      "2\n"
     ]
    }
   ],
   "source": [
    "pila = Pila()\n",
    "pila.push(1)\n",
    "pila.push(2)\n",
    "pila.push(3)\n",
    "print(pila.tamano())\n",
    "print(\"pila \")\n",
    "print(pila.pop())\n",
    "print(pila.peek())"
   ]
  },
  {
   "cell_type": "code",
   "execution_count": 3,
   "id": "8c2fb770",
   "metadata": {},
   "outputs": [
    {
     "name": "stdout",
     "output_type": "stream",
     "text": [
      "[1, 2, 3]\n"
     ]
    }
   ],
   "source": [
    "pila = Pila()\n",
    "pila.push(1)\n",
    "pila.push(2)\n",
    "pila.push(3)\n",
    "print(pila.mostrar())\n"
   ]
  },
  {
   "cell_type": "code",
   "execution_count": 4,
   "id": "90252660",
   "metadata": {},
   "outputs": [
    {
     "name": "stdout",
     "output_type": "stream",
     "text": [
      "3\n",
      "[1, 2]\n",
      "[1, 2]\n",
      "[1, 2, 3]\n"
     ]
    }
   ],
   "source": [
    "a = pila.pop()\n",
    "print(a)\n",
    "print(pila.mostrar())\n",
    "pila.peek()\n",
    "print(pila.mostrar())\n",
    "pila.push(a)\n",
    "print(pila.mostrar())"
   ]
  },
  {
   "cell_type": "code",
   "execution_count": 5,
   "id": "de77b591",
   "metadata": {},
   "outputs": [],
   "source": [
    "class Cola:\n",
    "    def __init__(self):\n",
    "        self.items = []\n",
    "\n",
    "    def esta_vacia(self):\n",
    "        return len(self.items) == 0\n",
    "    \n",
    "    def encolar(self, item):\n",
    "        self.items.insert(0, item) # insertar al inicio para fifo\n",
    "\n",
    "    def desencolar(self):\n",
    "        if not self.esta_vacia():\n",
    "            return self.items.pop()# eliminar del final para fifo\n",
    "        else:\n",
    "            return None # 0 lanzar una excepcion\n",
    "        \n",
    "    def primero(self):\n",
    "        if not self.esta_vacia():\n",
    "            return self.items[-1]\n",
    "        else:\n",
    "            return None # 0 lanzar una excepcion\n",
    "        \n",
    "    def tamano(self):\n",
    "        return len(self.items)\n",
    "    \n",
    "    def mostrar(self):\n",
    "        return self.items \n",
    "    \n",
    "    def rotar(self):\n",
    "        if not self.esta_vacia():\n",
    "            item = self.desencolar()\n",
    "            self.encolar(item)\n",
    "        "
   ]
  },
  {
   "cell_type": "code",
   "execution_count": 6,
   "id": "20ecf7af",
   "metadata": {},
   "outputs": [
    {
     "name": "stdout",
     "output_type": "stream",
     "text": [
      "[6, 8, 2, 5, 3]\n",
      "\n",
      "Colas:\n",
      "3\n",
      "[6, 8, 2, 5]\n",
      "5\n",
      "[6, 8, 2, 5]\n",
      "4\n",
      "[1, 6, 8, 2, 5]\n"
     ]
    }
   ],
   "source": [
    "cola = Cola()\n",
    "cola.encolar(3)\n",
    "cola.encolar(5)\n",
    "cola.encolar(2)\n",
    "cola.encolar(8)\n",
    "cola.encolar(6)\n",
    "print(cola.mostrar()) # imprime [3, 2, 1]\n",
    "print(\"\\nColas:\")\n",
    "print(cola.desencolar()) # imprime 1 print (\"\\ncolas:\")\n",
    "print(cola.mostrar()) # imprime [3, 2, 1]\n",
    "print(cola.primero()) # imprime 2 \n",
    "print(cola.mostrar()) # imprime [3, 2, 1]\n",
    "print(cola.tamano()) # imprime 2\n",
    "cola.encolar(1)\n",
    "print(cola.mostrar())"
   ]
  },
  {
   "cell_type": "code",
   "execution_count": null,
   "id": "273a5349",
   "metadata": {},
   "outputs": [],
   "source": [
    "list_org = []\n",
    "list_rand = [3, 5, 2, 8, 6]\n",
    "\n",
    "def encolar(self, item):\n",
    "        self.items.insert(0, item)\n",
    "\n",
    "\n",
    "def desencolar(self):\n",
    "        if not self.esta_vacia():\n",
    "            return self.items.pop()# eliminar del final para fifo\n",
    "        else:\n",
    "            return None \n"
   ]
  },
  {
   "cell_type": "code",
   "execution_count": 8,
   "id": "4094edeb",
   "metadata": {},
   "outputs": [
    {
     "data": {
      "text/plain": [
       "<function print(*args, sep=' ', end='\\n', file=None, flush=False)>"
      ]
     },
     "execution_count": 8,
     "metadata": {},
     "output_type": "execute_result"
    }
   ],
   "source": [
    "print"
   ]
  },
  {
   "cell_type": "code",
   "execution_count": 9,
   "id": "661d9940",
   "metadata": {},
   "outputs": [
    {
     "name": "stdout",
     "output_type": "stream",
     "text": [
      "[6, 8, 2, 5, 3]\n"
     ]
    }
   ],
   "source": [
    "list_rand =[3,5,2,8,6]\n",
    "col_1 = Cola()\n",
    "col_ord = Cola()\n",
    "for i in range(len(list_rand)):\n",
    "    col_1.encolar(list_rand[i])\n",
    "print(col_1.mostrar())"
   ]
  },
  {
   "cell_type": "code",
   "execution_count": 10,
   "id": "42b48651",
   "metadata": {},
   "outputs": [],
   "source": [
    "comp=0"
   ]
  },
  {
   "cell_type": "code",
   "execution_count": null,
   "id": "067ce2b6",
   "metadata": {},
   "outputs": [
    {
     "name": "stdout",
     "output_type": "stream",
     "text": [
      "[6, 8, 2, 5, 3]\n",
      "[3, 6, 8, 2, 5]\n",
      "5\n",
      "comp: 5\n",
      "[5, 3, 6, 8, 2]\n",
      "2\n",
      "comp: 5\n",
      "[2, 5, 3, 6, 8]\n",
      "8\n",
      "comp: 8\n",
      "[8, 2, 5, 3, 6]\n",
      "6\n",
      "comp: 8\n",
      "[6, 8, 2, 5, 3]\n",
      "3\n",
      "comp: 8\n",
      "[3, 6, 8, 2, 5]\n",
      "5\n",
      "[2, 5, 3, 6, 8]\n",
      "8\n",
      "[8, 2, 5, 3, 6]\n",
      "6\n",
      "[3, 6, 8, 2, 5]\n",
      "5\n",
      "[2, 5, 3, 6, 8]\n",
      "8\n",
      "[8, 2, 5, 3, 6]\n",
      "6\n",
      "[3, 6, 8, 2, 5]\n",
      "5\n",
      "None\n",
      "[]\n",
      "[5, 3, 6, 8, 2]\n"
     ]
    }
   ],
   "source": [
    "\n",
    "def new_func():\n",
    "    print(col_1.mostrar())\n",
    "    for _ in range(col_1.tamano()):\n",
    "      comp=0 \n",
    "    for _ in range(col_1.tamano()):\n",
    "      col_1.rotar()\n",
    "      print(col_1.mostrar())\n",
    "      print(col_1.primero())\n",
    "      if comp <col_1.primero():\n",
    "        comp=col_1.primero()\n",
    "      print(\"comp:\",comp)\n",
    "\n",
    "    for _ in range(col_1.tamano()):\n",
    "      col_1.rotar()\n",
    "      print(col_1.mostrar())\n",
    "      print(col_1.primero())\n",
    "      if comp== col_1.primero():\n",
    "        col_1.rotar()\n",
    "        print(col_1.mostrar())\n",
    "        print(col_1.primero())\n",
    "      if comp==col_1.primero():\n",
    "            col_ord.encolar(col_1.desencolar())\n",
    "      else:\n",
    "              col_1.rotar()  \n",
    "    print(col_ord.desencolar())\n",
    "    print(col_ord.mostrar())\n",
    "    print(col_1.mostrar())\n",
    "\n",
    "new_func()\n",
    "\n"
   ]
  }
 ],
 "metadata": {
  "kernelspec": {
   "display_name": "Python 3",
   "language": "python",
   "name": "python3"
  },
  "language_info": {
   "codemirror_mode": {
    "name": "ipython",
    "version": 3
   },
   "file_extension": ".py",
   "mimetype": "text/x-python",
   "name": "python",
   "nbconvert_exporter": "python",
   "pygments_lexer": "ipython3",
   "version": "3.13.9"
  }
 },
 "nbformat": 4,
 "nbformat_minor": 5
}
